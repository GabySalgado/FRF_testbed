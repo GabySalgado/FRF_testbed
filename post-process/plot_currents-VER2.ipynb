{
 "cells": [
  {
   "cell_type": "markdown",
   "metadata": {},
   "source": [
    "**Plot 2D Surface Elevation**\n",
    "======="
   ]
  },
  {
   "cell_type": "markdown",
   "metadata": {},
   "source": [
    "(1) Preamble -- Importing Modules\n",
    "----"
   ]
  },
  {
   "cell_type": "code",
   "execution_count": 1,
   "metadata": {},
   "outputs": [],
   "source": [
    "%matplotlib inline\n",
    "import scipy\n",
    "import numpy as np\n",
    "import os\n",
    "import matplotlib.pyplot as plt"
   ]
  },
  {
   "cell_type": "markdown",
   "metadata": {},
   "source": [
    "## USER SPECIFIED VARIABLES## \n",
    "----------------------------"
   ]
  },
  {
   "cell_type": "code",
   "execution_count": 2,
   "metadata": {},
   "outputs": [],
   "source": [
    "### USER SPECIFIED VARIABLES ----------------------------\n",
    "\n",
    "# Set spacial resoultion that was used:\n",
    "dy = 2.0\n",
    "dx = 2.0\n",
    "\n",
    "# figure edits:\n",
    "width = 8\n",
    "height = 10\n",
    "everyWhich= 20 # plot every nth current direction arrow of quiver (scales with image)\n",
    "levels = np.arange(0.0,3.5,0.25) # set Velocity contour levels (min vel, max vel, vel step)\n",
    "\n",
    "# Simulation Time Variables\n",
    "TOTAL_TIME = 3660  # total time stated in the input.txt\n",
    "PLOT_INTV = 10     # plot interval stated in the input.txt\n",
    "\n",
    "# The following 2 variables are for plotting Mean Velocities:\n",
    "nstart = 1 # first mean vel file you want to plot\n",
    "nend = 3   # last mean vel file you want to plot\n",
    "\n",
    "\n",
    "# PATH to Files:\n",
    "FOLDER_NAME = 'AGAT_maxDepth_40m_test_case_with_typical_Hmo' # project folder name\n",
    "pwd = os.getcwd()  # get current path\n",
    "projectDir = os.path.join(pwd,FOLDER_NAME) # path to project folder\n",
    "\n",
    "fdir = os.path.join(projectDir,'output') # path to project output folder\n",
    "plotDir = os.path.join(projectDir,'plots') # path to project plot folder\n",
    "\n",
    "### END OF USER SPECIFIED VARIABLES ----------------------------"
   ]
  },
  {
   "cell_type": "markdown",
   "metadata": {},
   "source": [
    "## END OF USER SPECIFIED VARIABLES##\n",
    "----------------------------"
   ]
  },
  {
   "cell_type": "markdown",
   "metadata": {},
   "source": [
    "(2) Read in **Depth** file\n",
    "--------"
   ]
  },
  {
   "cell_type": "code",
   "execution_count": 3,
   "metadata": {},
   "outputs": [
    {
     "name": "stdout",
     "output_type": "stream",
     "text": [
      "Reading In (ASCII):  /Users/rdchlgs8/Desktop/AGAT_JESSICA/AGAT_maxDepth_40m_test_case_with_typical_Hmo/output/dep.out\n",
      "Domain Check --> dx=2.0m   dy=2.0m   Lx=2900.0m   Ly=4000.0m   Nx= 1450  Ny= 2000\n"
     ]
    }
   ],
   "source": [
    "# Depth/Bathymetry file load\n",
    "depthFile = os.path.join(fdir,'dep.out')\n",
    "depth = np.loadtxt(depthFile)  \n",
    "\n",
    "# get dimensions of the depth (dep.out) file\n",
    "(Ny, Nx) = depth.shape        # num of Colums = number of points \n",
    "print(\"Reading In (ASCII): \", depthFile)\n",
    "\n",
    "Lx = Nx*dx\n",
    "Ly = Ny*dy\n",
    "x = np.linspace(0,Lx,Nx)\n",
    "y = np.linspace(0,Ly,Ny)\n",
    "(xx,yy) = np.meshgrid(x,y)\n",
    "\n",
    "#check\n",
    "print('Domain Check --> dx='+str(dx)+'m','  dy='+str(dy)+'m','  Lx='+str(Lx)+'m','  Ly='+str(Ly)+'m','  Nx=',Nx, ' Ny=',Ny)"
   ]
  },
  {
   "cell_type": "markdown",
   "metadata": {},
   "source": [
    "(3a) Generate Currents Plots\n",
    "--------\n",
    "\n",
    " \n"
   ]
  },
  {
   "cell_type": "code",
   "execution_count": 4,
   "metadata": {},
   "outputs": [
    {
     "name": "stdout",
     "output_type": "stream",
     "text": [
      "Saving Figure: curr_00001.png\n",
      "Saving Figure: curr_00002.png\n",
      "Saving Figure: curr_00003.png\n",
      "Saving Figure: curr_00004.png\n",
      "Saving Figure: curr_00005.png\n",
      "Saving Figure: curr_00006.png\n",
      "Saving Figure: curr_00007.png\n",
      "Saving Figure: curr_00008.png\n",
      "Saving Figure: curr_00009.png\n",
      "Saving Figure: curr_00010.png\n",
      "Saving Figure: curr_00011.png\n",
      "Saving Figure: curr_00012.png\n",
      "Saving Figure: curr_00013.png\n",
      "Saving Figure: curr_00014.png\n",
      "Saving Figure: curr_00015.png\n",
      "Saving Figure: curr_00016.png\n",
      "Saving Figure: curr_00017.png\n",
      "Saving Figure: curr_00018.png\n",
      "Saving Figure: curr_00019.png\n",
      "Saving Figure: curr_00020.png\n",
      "Saving Figure: curr_00021.png\n",
      "Saving Figure: curr_00022.png\n",
      "Saving Figure: curr_00023.png\n",
      "Saving Figure: curr_00024.png\n",
      "Saving Figure: curr_00025.png\n",
      "Saving Figure: curr_00026.png\n",
      "Saving Figure: curr_00027.png\n",
      "Saving Figure: curr_00028.png\n",
      "Saving Figure: curr_00029.png\n",
      "Saving Figure: curr_00030.png\n",
      "Saving Figure: curr_00031.png\n",
      "Saving Figure: curr_00032.png\n",
      "Saving Figure: curr_00033.png\n",
      "Saving Figure: curr_00034.png\n",
      "Saving Figure: curr_00035.png\n",
      "Saving Figure: curr_00036.png\n",
      "Saving Figure: curr_00037.png\n",
      "Saving Figure: curr_00038.png\n",
      "Saving Figure: curr_00039.png\n",
      "Saving Figure: curr_00040.png\n",
      "Saving Figure: curr_00041.png\n",
      "Saving Figure: curr_00042.png\n",
      "Saving Figure: curr_00043.png\n",
      "Saving Figure: curr_00044.png\n",
      "Saving Figure: curr_00045.png\n",
      "Saving Figure: curr_00046.png\n",
      "Saving Figure: curr_00047.png\n",
      "Saving Figure: curr_00048.png\n",
      "Saving Figure: curr_00049.png\n",
      "Saving Figure: curr_00050.png\n",
      "Saving Figure: curr_00051.png\n",
      "Saving Figure: curr_00052.png\n",
      "Saving Figure: curr_00053.png\n",
      "Saving Figure: curr_00054.png\n",
      "Saving Figure: curr_00055.png\n",
      "Saving Figure: curr_00056.png\n",
      "Saving Figure: curr_00057.png\n",
      "Saving Figure: curr_00058.png\n",
      "Saving Figure: curr_00059.png\n",
      "Saving Figure: curr_00060.png\n",
      "Saving Figure: curr_00061.png\n"
     ]
    },
    {
     "ename": "OSError",
     "evalue": "/Users/rdchlgs8/Desktop/AGAT_JESSICA/AGAT_maxDepth_40m_test_case_with_typical_Hmo/output/u_00062 not found.",
     "output_type": "error",
     "traceback": [
      "\u001b[0;31m---------------------------------------------------------------------------\u001b[0m",
      "\u001b[0;31mOSError\u001b[0m                                   Traceback (most recent call last)",
      "\u001b[0;32m<ipython-input-4-48631b00e207>\u001b[0m in \u001b[0;36m<module>\u001b[0;34m()\u001b[0m\n\u001b[1;32m      7\u001b[0m \u001b[0;34m\u001b[0m\u001b[0m\n\u001b[1;32m      8\u001b[0m     \u001b[0;31m# Loading data from files\u001b[0m\u001b[0;34m\u001b[0m\u001b[0;34m\u001b[0m\u001b[0m\n\u001b[0;32m----> 9\u001b[0;31m     \u001b[0mu\u001b[0m \u001b[0;34m=\u001b[0m \u001b[0mnp\u001b[0m\u001b[0;34m.\u001b[0m\u001b[0mloadtxt\u001b[0m\u001b[0;34m(\u001b[0m\u001b[0mos\u001b[0m\u001b[0;34m.\u001b[0m\u001b[0mpath\u001b[0m\u001b[0;34m.\u001b[0m\u001b[0mjoin\u001b[0m\u001b[0;34m(\u001b[0m\u001b[0mfdir\u001b[0m\u001b[0;34m,\u001b[0m\u001b[0;34m'u_'\u001b[0m\u001b[0;34m+\u001b[0m\u001b[0mfnum\u001b[0m\u001b[0;34m)\u001b[0m\u001b[0;34m)\u001b[0m\u001b[0;34m\u001b[0m\u001b[0m\n\u001b[0m\u001b[1;32m     10\u001b[0m     \u001b[0mv\u001b[0m \u001b[0;34m=\u001b[0m \u001b[0mnp\u001b[0m\u001b[0;34m.\u001b[0m\u001b[0mloadtxt\u001b[0m\u001b[0;34m(\u001b[0m\u001b[0mos\u001b[0m\u001b[0;34m.\u001b[0m\u001b[0mpath\u001b[0m\u001b[0;34m.\u001b[0m\u001b[0mjoin\u001b[0m\u001b[0;34m(\u001b[0m\u001b[0mfdir\u001b[0m\u001b[0;34m,\u001b[0m\u001b[0;34m'v_'\u001b[0m\u001b[0;34m+\u001b[0m\u001b[0mfnum\u001b[0m\u001b[0;34m)\u001b[0m\u001b[0;34m)\u001b[0m\u001b[0;34m\u001b[0m\u001b[0m\n\u001b[1;32m     11\u001b[0m     \u001b[0mmask\u001b[0m \u001b[0;34m=\u001b[0m \u001b[0mnp\u001b[0m\u001b[0;34m.\u001b[0m\u001b[0mloadtxt\u001b[0m\u001b[0;34m(\u001b[0m\u001b[0mos\u001b[0m\u001b[0;34m.\u001b[0m\u001b[0mpath\u001b[0m\u001b[0;34m.\u001b[0m\u001b[0mjoin\u001b[0m\u001b[0;34m(\u001b[0m\u001b[0mfdir\u001b[0m\u001b[0;34m,\u001b[0m\u001b[0;34m'mask_'\u001b[0m\u001b[0;34m+\u001b[0m\u001b[0mfnum\u001b[0m\u001b[0;34m)\u001b[0m\u001b[0;34m)\u001b[0m\u001b[0;34m\u001b[0m\u001b[0m\n",
      "\u001b[0;32m/anaconda3/lib/python3.7/site-packages/numpy/lib/npyio.py\u001b[0m in \u001b[0;36mloadtxt\u001b[0;34m(fname, dtype, comments, delimiter, converters, skiprows, usecols, unpack, ndmin, encoding)\u001b[0m\n\u001b[1;32m    924\u001b[0m             \u001b[0mfname\u001b[0m \u001b[0;34m=\u001b[0m \u001b[0mstr\u001b[0m\u001b[0;34m(\u001b[0m\u001b[0mfname\u001b[0m\u001b[0;34m)\u001b[0m\u001b[0;34m\u001b[0m\u001b[0m\n\u001b[1;32m    925\u001b[0m         \u001b[0;32mif\u001b[0m \u001b[0m_is_string_like\u001b[0m\u001b[0;34m(\u001b[0m\u001b[0mfname\u001b[0m\u001b[0;34m)\u001b[0m\u001b[0;34m:\u001b[0m\u001b[0;34m\u001b[0m\u001b[0m\n\u001b[0;32m--> 926\u001b[0;31m             \u001b[0mfh\u001b[0m \u001b[0;34m=\u001b[0m \u001b[0mnp\u001b[0m\u001b[0;34m.\u001b[0m\u001b[0mlib\u001b[0m\u001b[0;34m.\u001b[0m\u001b[0m_datasource\u001b[0m\u001b[0;34m.\u001b[0m\u001b[0mopen\u001b[0m\u001b[0;34m(\u001b[0m\u001b[0mfname\u001b[0m\u001b[0;34m,\u001b[0m \u001b[0;34m'rt'\u001b[0m\u001b[0;34m,\u001b[0m \u001b[0mencoding\u001b[0m\u001b[0;34m=\u001b[0m\u001b[0mencoding\u001b[0m\u001b[0;34m)\u001b[0m\u001b[0;34m\u001b[0m\u001b[0m\n\u001b[0m\u001b[1;32m    927\u001b[0m             \u001b[0mfencoding\u001b[0m \u001b[0;34m=\u001b[0m \u001b[0mgetattr\u001b[0m\u001b[0;34m(\u001b[0m\u001b[0mfh\u001b[0m\u001b[0;34m,\u001b[0m \u001b[0;34m'encoding'\u001b[0m\u001b[0;34m,\u001b[0m \u001b[0;34m'latin1'\u001b[0m\u001b[0;34m)\u001b[0m\u001b[0;34m\u001b[0m\u001b[0m\n\u001b[1;32m    928\u001b[0m             \u001b[0mfh\u001b[0m \u001b[0;34m=\u001b[0m \u001b[0miter\u001b[0m\u001b[0;34m(\u001b[0m\u001b[0mfh\u001b[0m\u001b[0;34m)\u001b[0m\u001b[0;34m\u001b[0m\u001b[0m\n",
      "\u001b[0;32m/anaconda3/lib/python3.7/site-packages/numpy/lib/_datasource.py\u001b[0m in \u001b[0;36mopen\u001b[0;34m(path, mode, destpath, encoding, newline)\u001b[0m\n\u001b[1;32m    260\u001b[0m \u001b[0;34m\u001b[0m\u001b[0m\n\u001b[1;32m    261\u001b[0m     \u001b[0mds\u001b[0m \u001b[0;34m=\u001b[0m \u001b[0mDataSource\u001b[0m\u001b[0;34m(\u001b[0m\u001b[0mdestpath\u001b[0m\u001b[0;34m)\u001b[0m\u001b[0;34m\u001b[0m\u001b[0m\n\u001b[0;32m--> 262\u001b[0;31m     \u001b[0;32mreturn\u001b[0m \u001b[0mds\u001b[0m\u001b[0;34m.\u001b[0m\u001b[0mopen\u001b[0m\u001b[0;34m(\u001b[0m\u001b[0mpath\u001b[0m\u001b[0;34m,\u001b[0m \u001b[0mmode\u001b[0m\u001b[0;34m,\u001b[0m \u001b[0mencoding\u001b[0m\u001b[0;34m=\u001b[0m\u001b[0mencoding\u001b[0m\u001b[0;34m,\u001b[0m \u001b[0mnewline\u001b[0m\u001b[0;34m=\u001b[0m\u001b[0mnewline\u001b[0m\u001b[0;34m)\u001b[0m\u001b[0;34m\u001b[0m\u001b[0m\n\u001b[0m\u001b[1;32m    263\u001b[0m \u001b[0;34m\u001b[0m\u001b[0m\n\u001b[1;32m    264\u001b[0m \u001b[0;34m\u001b[0m\u001b[0m\n",
      "\u001b[0;32m/anaconda3/lib/python3.7/site-packages/numpy/lib/_datasource.py\u001b[0m in \u001b[0;36mopen\u001b[0;34m(self, path, mode, encoding, newline)\u001b[0m\n\u001b[1;32m    616\u001b[0m                                       encoding=encoding, newline=newline)\n\u001b[1;32m    617\u001b[0m         \u001b[0;32melse\u001b[0m\u001b[0;34m:\u001b[0m\u001b[0;34m\u001b[0m\u001b[0m\n\u001b[0;32m--> 618\u001b[0;31m             \u001b[0;32mraise\u001b[0m \u001b[0mIOError\u001b[0m\u001b[0;34m(\u001b[0m\u001b[0;34m\"%s not found.\"\u001b[0m \u001b[0;34m%\u001b[0m \u001b[0mpath\u001b[0m\u001b[0;34m)\u001b[0m\u001b[0;34m\u001b[0m\u001b[0m\n\u001b[0m\u001b[1;32m    619\u001b[0m \u001b[0;34m\u001b[0m\u001b[0m\n\u001b[1;32m    620\u001b[0m \u001b[0;34m\u001b[0m\u001b[0m\n",
      "\u001b[0;31mOSError\u001b[0m: /Users/rdchlgs8/Desktop/AGAT_JESSICA/AGAT_maxDepth_40m_test_case_with_typical_Hmo/output/u_00062 not found."
     ]
    }
   ],
   "source": [
    "#### Call Currents Plot Function:\n",
    "curr_num = int(TOTAL_TIME/PLOT_INTV)\n",
    "\n",
    "for currIndex in range(curr_num-1):\n",
    "\n",
    "    fnum = '{0:0>5}'.format(str(currIndex + 1))\n",
    "\n",
    "    # Loading data from files                                                                \n",
    "    u = np.loadtxt(os.path.join(fdir,'u_'+fnum))\n",
    "    v = np.loadtxt(os.path.join(fdir,'v_'+fnum))\n",
    "    mask = np.loadtxt(os.path.join(fdir,'mask_'+fnum))\n",
    "\n",
    "    # Removing masked regions from plot                                                      \n",
    "    u[np.where( mask < 1)] = np.nan\n",
    "    v[np.where( mask < 1)] = np.nan\n",
    "    \n",
    "    vel_mag = np.zeros(np.shape(u))\n",
    "    vel_mag[:,:] = np.sqrt([u[:,:]**2 + v[:,:]**2])\n",
    "\n",
    "    # ------------------ \n",
    "    fig = plt.figure(figsize=(width,height))\n",
    "    plt.clf()\n",
    "    ax = fig.add_subplot(111)\n",
    "    \n",
    "    # set contour levels\n",
    "    plt.contourf(xx,yy,vel_mag[:,:],levels, cmap='jet')\n",
    "    cbar = plt.colorbar()\n",
    "    cbar.set_label('Velocity Magnitude', fontsize=16)\n",
    "    \n",
    "    # plot vectors of fluctuating velocity (every 2nd vector)\n",
    "    plt.quiver(xx[::everyWhich, ::everyWhich],\n",
    "            yy[::everyWhich, ::everyWhich],\n",
    "            u[::everyWhich, ::everyWhich],\n",
    "            v[::everyWhich, ::everyWhich],\n",
    "            units='xy',angles='xy',scale=0.04,\n",
    "            width=3, headwidth=5,headlength=8,\n",
    "            minlength=0.1)\n",
    "    \n",
    "    # set plot limits and axis titles\n",
    "    plt.xlabel('$x$', fontsize=16)\n",
    "    plt.ylabel('$y$',fontsize=16)\n",
    "    \n",
    "    # check if plotDir exists \n",
    "    if not os.path.exists(plotDir):\n",
    "        os.makedirs(plotDir)\n",
    "\n",
    "    plt.savefig(os.path.join(plotDir,'curr_{0:0>5s}.png'.format(fnum)), dpi=300)\n",
    "\n",
    "    # close the window (especially when more than 20 is being plotted)\n",
    "    plt.close()\n",
    "                         \n",
    "    print('Saving Figure: curr_{0:0>5s}.png'.format(fnum))"
   ]
  },
  {
   "cell_type": "markdown",
   "metadata": {},
   "source": [
    "(3b) Generate Currents Plots ZOOMED at harbor\n",
    "--------"
   ]
  },
  {
   "cell_type": "code",
   "execution_count": null,
   "metadata": {},
   "outputs": [
    {
     "name": "stdout",
     "output_type": "stream",
     "text": [
      "Saving Figure: curr_harbor_00041.png\n",
      "Saving Figure: curr_harbor_00042.png\n",
      "Saving Figure: curr_harbor_00043.png\n",
      "Saving Figure: curr_harbor_00044.png\n",
      "Saving Figure: curr_harbor_00045.png\n",
      "Saving Figure: curr_harbor_00046.png\n",
      "Saving Figure: curr_harbor_00047.png\n",
      "Saving Figure: curr_harbor_00048.png\n",
      "Saving Figure: curr_harbor_00049.png\n",
      "Saving Figure: curr_harbor_00050.png\n",
      "Saving Figure: curr_harbor_00051.png\n",
      "Saving Figure: curr_harbor_00052.png\n",
      "Saving Figure: curr_harbor_00053.png\n",
      "Saving Figure: curr_harbor_00054.png\n"
     ]
    }
   ],
   "source": [
    "# figure size:\n",
    "width = 10\n",
    "height = 9\n",
    "everyWhich_harbor = 5 # plot arrow every # steps\n",
    "\n",
    "# arboor index locations\n",
    "initIndexX = 820 \n",
    "initIndexY = 1100 \n",
    "finalIndexX = 1000  \n",
    "finalIndexY = 1300 \n",
    "\n",
    "\n",
    "#### Call Currents Plot Function:\n",
    "curr_num = int(TOTAL_TIME/PLOT_INTV)\n",
    "\n",
    "for currIndex in range(curr_num-1):\n",
    "\n",
    "    fnum = '{0:0>5}'.format(str(currIndex + 1))\n",
    "\n",
    "    # Loading data from files                                                                \n",
    "    u = np.loadtxt(os.path.join(fdir,'u_'+fnum))\n",
    "    v = np.loadtxt(os.path.join(fdir,'v_'+fnum))\n",
    "    mask = np.loadtxt(os.path.join(fdir,'mask_'+fnum))\n",
    "\n",
    "    # Removing masked regions from plot                                                      \n",
    "    u[np.where( mask < 1)] = np.nan\n",
    "    v[np.where( mask < 1)] = np.nan\n",
    "    \n",
    "    vel_mag = np.zeros(np.shape(u))\n",
    "    vel_mag[:,:] = np.sqrt([u[:,:]**2 + v[:,:]**2])\n",
    "\n",
    "    # ------------------ \n",
    "    fig = plt.figure(figsize=(width,height))\n",
    "    plt.clf()\n",
    "    ax = fig.add_subplot(111)\n",
    "    \n",
    "    # set contour levels\n",
    "    plt.contourf(xx[initIndexX:finalIndexX,initIndexY:finalIndexY],\n",
    "                 yy[initIndexX:finalIndexX,initIndexY:finalIndexY],\n",
    "                 vel_mag[initIndexX:finalIndexX,initIndexY:finalIndexY],levels, cmap='jet')\n",
    "    cbar = plt.colorbar()\n",
    "    cbar.set_label('Velocity  Magnitude', fontsize=16)\n",
    "    \n",
    "    # plot vectors of fluctuating velocity (every 2nd vector)\n",
    "    plt.quiver(xx[initIndexX:finalIndexX:everyWhich_harbor, initIndexY:finalIndexY:everyWhich_harbor],\n",
    "            yy[initIndexX:finalIndexX:everyWhich_harbor, initIndexY:finalIndexY:everyWhich_harbor],\n",
    "             u[initIndexX:finalIndexX:everyWhich_harbor, initIndexY:finalIndexY:everyWhich_harbor],\n",
    "            v[initIndexX:finalIndexX:everyWhich_harbor, initIndexY:finalIndexY:everyWhich_harbor],\n",
    "            units='xy',angles='xy',scale=0.15,\n",
    "            width=1, headwidth=4,headlength=8,minlength=0.1)\n",
    "    \n",
    "    # set plot limits and axis titles\n",
    "    plt.xlabel('$x$', fontsize=16)\n",
    "    plt.ylabel('$y$',fontsize=16)\n",
    "    \n",
    "    # check if plotDir exists \n",
    "    if not os.path.exists(plotDir):\n",
    "        os.makedirs(plotDir)\n",
    "\n",
    "    plt.savefig(os.path.join(plotDir,'curr_harbor_{0:0>5s}.png'.format(fnum)), dpi=300)\n",
    "\n",
    "    # close the window (especially when more than 20 is being plotted)\n",
    "    plt.close()\n",
    "                         \n",
    "    print('Saving Figure: curr_harbor_{0:0>5s}.png'.format(fnum))"
   ]
  },
  {
   "cell_type": "markdown",
   "metadata": {},
   "source": [
    "(4) Generate Mean Currents Plots\n",
    "--------"
   ]
  },
  {
   "cell_type": "code",
   "execution_count": 5,
   "metadata": {},
   "outputs": [
    {
     "name": "stdout",
     "output_type": "stream",
     "text": [
      "Saving Figure: curr_mean_00001.png\n",
      "Saving Figure: curr_mean_00002.png\n",
      "Saving Figure: curr_mean_00003.png\n"
     ]
    }
   ],
   "source": [
    "#### Call MEAN Currents Plot Function:\n",
    "                                                                             \n",
    "for currIndex in range(int(nstart),int(nend)+1):\n",
    "    fnum = '{0:0>5}'.format(str(currIndex))\n",
    "\n",
    "    # Loading data from files                                                                \n",
    "    u = np.loadtxt(os.path.join(fdir,'umean_'+fnum))\n",
    "    v = np.loadtxt(os.path.join(fdir,'vmean_'+fnum))\n",
    "    mask = np.loadtxt(os.path.join(fdir,'mask_'+fnum))\n",
    "\n",
    "    # Removing masked regions from plot                                                      \n",
    "    u[np.where( mask < 1)] = np.nan\n",
    "    v[np.where( mask < 1)] = np.nan\n",
    "\n",
    "    # Removing masked regions from plot                                                      \n",
    "    u[np.where( mask < 1)] = np.nan\n",
    "    v[np.where( mask < 1)] = np.nan\n",
    "    \n",
    "    vel_mag = np.zeros(np.shape(u))\n",
    "    vel_mag[:,:] = np.sqrt([u[:,:]**2 + v[:,:]**2])\n",
    "\n",
    "    # ------------------ \n",
    "    fig = plt.figure(figsize=(width,height))\n",
    "    plt.clf()\n",
    "    ax = fig.add_subplot(111)\n",
    "    \n",
    "    # set contour levels\n",
    "    plt.contourf(xx,yy,vel_mag[:,:],levels, cmap='jet')\n",
    "    cbar = plt.colorbar()\n",
    "    cbar.set_label('Velocity Magnitude', fontsize=16)\n",
    "    \n",
    "    # plot vectors of fluctuating velocity (every 2nd vector)\n",
    "    plt.quiver(xx[::everyWhich, ::everyWhich],\n",
    "            yy[::everyWhich, ::everyWhich],\n",
    "            u[::everyWhich, ::everyWhich],\n",
    "            v[::everyWhich, ::everyWhich],\n",
    "            units='xy',angles='xy',scale=0.04,\n",
    "            width=3, headwidth=5,headlength=8,\n",
    "            minlength=0.1)\n",
    "    \n",
    "    # set plot limits and axis titles\n",
    "    plt.xlabel('$x$', fontsize=16)\n",
    "    plt.ylabel('$y$',fontsize=16)\n",
    "    \n",
    "    # check if plotDir exists \n",
    "    if not os.path.exists(plotDir):\n",
    "        os.makedirs(plotDir)\n",
    "\n",
    "    plt.savefig(os.path.join(plotDir,'curr_mean_{0:0>5s}.png'.format(fnum)), dpi=300)\n",
    "\n",
    "    # close the window (especially when more than 20 is being plotted)\n",
    "    plt.close()\n",
    "                         \n",
    "    print('Saving Figure: curr_mean_{0:0>5s}.png'.format(fnum))"
   ]
  },
  {
   "cell_type": "code",
   "execution_count": null,
   "metadata": {},
   "outputs": [],
   "source": []
  }
 ],
 "metadata": {
  "kernelspec": {
   "display_name": "Python 3",
   "language": "python",
   "name": "python3"
  },
  "language_info": {
   "codemirror_mode": {
    "name": "ipython",
    "version": 3
   },
   "file_extension": ".py",
   "mimetype": "text/x-python",
   "name": "python",
   "nbconvert_exporter": "python",
   "pygments_lexer": "ipython3",
   "version": "3.7.0"
  },
  "nbTranslate": {
   "displayLangs": [
    "*"
   ],
   "hotkey": "alt-t",
   "langInMainMenu": true,
   "sourceLang": "en",
   "targetLang": "fr",
   "useGoogleTranslate": true
  }
 },
 "nbformat": 4,
 "nbformat_minor": 1
}
