{
 "cells": [
  {
   "cell_type": "code",
   "execution_count": 58,
   "metadata": {},
   "outputs": [],
   "source": [
    "import os\n",
    "import numpy as np\n",
    "import matplotlib.pyplot as plt\n",
    "from scipy.signal import hilbert\n",
    "from scipy.stats import skew as skewness"
   ]
  },
  {
   "cell_type": "code",
   "execution_count": 59,
   "metadata": {},
   "outputs": [],
   "source": [
    "def calcSkewAsym(ts):\n",
    "    # function calculates the skewness of a wave time series\n",
    "    # ts = is the input time-series with a constant dt and no nans\n",
    "\n",
    "    ts = ts - np.nanmean(ts)\n",
    "\n",
    "    skew = skewness(ts)\n",
    "    assym = skewness(np.imag(hilbert(ts)))\n",
    "    skewcheck = skewness(np.real(hilbert(ts)))\n",
    "\n",
    "    return skew, assym, skewcheck"
   ]
  },
  {
   "cell_type": "code",
   "execution_count": 114,
   "metadata": {},
   "outputs": [
    {
     "name": "stdout",
     "output_type": "stream",
     "text": [
      "Directory  /Users/rdchlgs8/Desktop/FRF_testbed/post-process/FRF1D/FRF1D-2015100500-2420022/plots  already exists\n"
     ]
    }
   ],
   "source": [
    "pwd = os.getcwd()\n",
    "\n",
    "FRF = '1' # if 1D, FRF = '1' & if 2D, FRF = '2'\n",
    "\n",
    "\n",
    "assert FRF in ['1','2'],\"Use FRF = '1' if 1D or FRF = '2' if 2D!\"  \n",
    "if FRF == '1':\n",
    "    projectDir = os.path.join(pwd,'FRF1D')\n",
    "else:\n",
    "    projectDir = os.path.join(pwd,'FRF2D')\n",
    "    \n",
    "simDir = os.path.join(projectDir,'FRF1D-2015100500-2420022')\n",
    "outputDir = os.path.join(simDir,'output')\n",
    "\n",
    "plotDir = os.path.join(simDir,'plots')\n",
    "try:\n",
    "    # Create target Directory\n",
    "    os.mkdir(plotDir)\n",
    "    print(\"Directory \" , plotDir ,  \" Created \") \n",
    "except FileExistsError:\n",
    "    print(\"Directory \" , plotDir ,  \" already exists\")\n",
    "\n",
    "prefix = 'sta_'\n",
    "filePrefix = os.path.join(outputDir, prefix)\n"
   ]
  },
  {
   "cell_type": "code",
   "execution_count": 115,
   "metadata": {},
   "outputs": [
    {
     "name": "stdout",
     "output_type": "stream",
     "text": [
      "Reading in: /Users/rdchlgs8/Desktop/FRF_testbed/post-process/FRF1D/FRF1D-2015100500-2420022/output/sta_0001\n",
      "Reading in: /Users/rdchlgs8/Desktop/FRF_testbed/post-process/FRF1D/FRF1D-2015100500-2420022/output/sta_0002\n",
      "Reading in: /Users/rdchlgs8/Desktop/FRF_testbed/post-process/FRF1D/FRF1D-2015100500-2420022/output/sta_0003\n",
      "Reading in: /Users/rdchlgs8/Desktop/FRF_testbed/post-process/FRF1D/FRF1D-2015100500-2420022/output/sta_0004\n",
      "Reading in: /Users/rdchlgs8/Desktop/FRF_testbed/post-process/FRF1D/FRF1D-2015100500-2420022/output/sta_0005\n",
      "Reading in: /Users/rdchlgs8/Desktop/FRF_testbed/post-process/FRF1D/FRF1D-2015100500-2420022/output/sta_0006\n"
     ]
    }
   ],
   "source": [
    "# Four stations for in this example\n",
    "numOfStations = 6\n",
    "\n",
    "stationList = []\n",
    "\n",
    "for station in range(numOfStations):\n",
    "    fileName = filePrefix+'{:0>4d}'.format(station+1)\n",
    "    print(\"Reading in: \"+fileName)\n",
    "    timeSeries = np.loadtxt(fileName)\n",
    "    stationList.append(timeSeries)"
   ]
  },
  {
   "cell_type": "code",
   "execution_count": 116,
   "metadata": {},
   "outputs": [
    {
     "name": "stdout",
     "output_type": "stream",
     "text": [
      "For Station #: 1 ==> [skew, assym, skewcheck] = [0.66129, 0.05225, 0.66129]\n",
      "\n",
      "For Station #: 2 ==> [skew, assym, skewcheck] = [0.85258, -0.07855, 0.85258]\n",
      "\n",
      "For Station #: 3 ==> [skew, assym, skewcheck] = [1.22019, -0.31831, 1.22019]\n",
      "\n",
      "For Station #: 4 ==> [skew, assym, skewcheck] = [1.27985, -0.40677, 1.27985]\n",
      "\n",
      "For Station #: 5 ==> [skew, assym, skewcheck] = [1.28390, -0.44434, 1.28390]\n",
      "\n",
      "For Station #: 6 ==> [skew, assym, skewcheck] = [0.81427, -0.98184, 0.81427]\n",
      "\n"
     ]
    }
   ],
   "source": [
    "nfile = np.arange(numOfStations)\n",
    "\n",
    "fileName = 'station_skewness.txt'\n",
    "out_path = os.path.join(plotDir,fileName)\n",
    "fileOut = open(out_path,'w')\n",
    "\n",
    "for i, fileIndex in enumerate(nfile):\n",
    "    timeS = stationList[fileIndex][:,0] # first row in sta_000# is time stamp\n",
    "    etaTS = stationList[fileIndex][:,1] # second row is time series of eta (third and fourth are U and V)\n",
    "    \n",
    "    (skew, assym, skewcheck) = calcSkewAsym(etaTS)\n",
    "    \n",
    "    string = \"For Station #: %d ==> [skew, assym, skewcheck] = [%4.5f, %4.5f, %4.5f]\\n\" % (fileIndex+1, skew, assym, skewcheck)\n",
    "    print(string)\n",
    "        \n",
    "    fileOut.write(string)\n",
    "\n",
    "fileOut.close()"
   ]
  },
  {
   "cell_type": "code",
   "execution_count": null,
   "metadata": {},
   "outputs": [],
   "source": []
  },
  {
   "cell_type": "code",
   "execution_count": null,
   "metadata": {},
   "outputs": [],
   "source": []
  }
 ],
 "metadata": {
  "kernelspec": {
   "display_name": "Python 3",
   "language": "python",
   "name": "python3"
  },
  "language_info": {
   "codemirror_mode": {
    "name": "ipython",
    "version": 3
   },
   "file_extension": ".py",
   "mimetype": "text/x-python",
   "name": "python",
   "nbconvert_exporter": "python",
   "pygments_lexer": "ipython3",
   "version": "3.7.0"
  }
 },
 "nbformat": 4,
 "nbformat_minor": 2
}
